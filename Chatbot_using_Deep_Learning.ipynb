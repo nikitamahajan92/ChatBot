{
  "nbformat": 4,
  "nbformat_minor": 0,
  "metadata": {
    "colab": {
      "provenance": [],
      "gpuType": "T4",
      "authorship_tag": "ABX9TyO9eRltT5ODpy8bD+QnTEbO",
      "include_colab_link": true
    },
    "kernelspec": {
      "name": "python3",
      "display_name": "Python 3"
    },
    "language_info": {
      "name": "python"
    },
    "accelerator": "GPU"
  },
  "cells": [
    {
      "cell_type": "markdown",
      "metadata": {
        "id": "view-in-github",
        "colab_type": "text"
      },
      "source": [
        "<a href=\"https://colab.research.google.com/github/nikitamahajan92/ChatBot/blob/main/Chatbot_using_Deep_Learning.ipynb\" target=\"_parent\"><img src=\"https://colab.research.google.com/assets/colab-badge.svg\" alt=\"Open In Colab\"/></a>"
      ]
    },
    {
      "cell_type": "markdown",
      "source": [
        "# **1. Import the libraries:**"
      ],
      "metadata": {
        "id": "n8VC_Hh_6mk9"
      }
    },
    {
      "cell_type": "code",
      "source": [
        "import tensorflow\n",
        "import nltk\n",
        "from nltk.stem import WordNetLemmatizer\n",
        "lemmatizer = WordNetLemmatizer()\n",
        "import numpy as np\n",
        "from tensorflow.keras.models import Sequential\n",
        "from tensorflow.keras.layers import Dense, Dropout , Activation, Flatten , Conv2D, MaxPooling2D\n",
        "from tensorflow.keras.optimizers import SGD\n",
        "import random\n",
        "import json\n",
        "import pickle"
      ],
      "metadata": {
        "id": "Y3kJKOCE46L8"
      },
      "execution_count": 16,
      "outputs": []
    },
    {
      "cell_type": "code",
      "source": [
        "nltk.download('punkt')"
      ],
      "metadata": {
        "colab": {
          "base_uri": "https://localhost:8080/"
        },
        "id": "m-_aFq_n7hB5",
        "outputId": "6f5392de-e0bb-448d-beb8-1a27bae7307a"
      },
      "execution_count": 17,
      "outputs": [
        {
          "output_type": "stream",
          "name": "stderr",
          "text": [
            "[nltk_data] Downloading package punkt to /root/nltk_data...\n",
            "[nltk_data]   Unzipping tokenizers/punkt.zip.\n"
          ]
        },
        {
          "output_type": "execute_result",
          "data": {
            "text/plain": [
              "True"
            ]
          },
          "metadata": {},
          "execution_count": 17
        }
      ]
    },
    {
      "cell_type": "code",
      "source": [
        "nltk.download('wordnet')"
      ],
      "metadata": {
        "colab": {
          "base_uri": "https://localhost:8080/"
        },
        "id": "8q_9obeN7rZ9",
        "outputId": "673e0ccd-ea2e-46a8-a338-298c421e7d20"
      },
      "execution_count": 18,
      "outputs": [
        {
          "output_type": "stream",
          "name": "stderr",
          "text": [
            "[nltk_data] Downloading package wordnet to /root/nltk_data...\n"
          ]
        },
        {
          "output_type": "execute_result",
          "data": {
            "text/plain": [
              "True"
            ]
          },
          "metadata": {},
          "execution_count": 18
        }
      ]
    },
    {
      "cell_type": "markdown",
      "source": [
        "# **2. Declaring Constants:**"
      ],
      "metadata": {
        "id": "zr0w3QNf6rkH"
      }
    },
    {
      "cell_type": "code",
      "source": [
        "words=[]\n",
        "labels = []\n",
        "docs = []\n",
        "ignore_list = ['?', '!']"
      ],
      "metadata": {
        "id": "xaPSqtX75zc8"
      },
      "execution_count": 19,
      "outputs": []
    },
    {
      "cell_type": "markdown",
      "source": [
        "## **3. Loading our dataset that is intents.json file:**"
      ],
      "metadata": {
        "id": "mzeFdEYr60Nv"
      }
    },
    {
      "cell_type": "code",
      "source": [
        "dataset = open('intents.json').read()\n",
        "intents = json.loads(dataset)"
      ],
      "metadata": {
        "id": "BFKzgjE_6x3U"
      },
      "execution_count": 22,
      "outputs": []
    },
    {
      "cell_type": "markdown",
      "source": [
        "# **4. Preprocess Data:**"
      ],
      "metadata": {
        "id": "FahsAumE7EPH"
      }
    },
    {
      "cell_type": "code",
      "source": [
        "for intent in intents['intents']:\n",
        "    for pattern in intent['patterns']:\n",
        "        #tokenize each word\n",
        "        word_token = nltk.word_tokenize(pattern)\n",
        "        words.extend(word_token)\n",
        "        #add documents in the corpus\n",
        "        docs.append((word_token, intent['tag']))\n",
        "        # add to our labels list\n",
        "        if intent['tag'] not in labels:\n",
        "            labels.append(intent['tag'])"
      ],
      "metadata": {
        "id": "MNWHXLUo64t1"
      },
      "execution_count": 23,
      "outputs": []
    },
    {
      "cell_type": "markdown",
      "source": [
        "# **5. Lemmatizing Each word:**"
      ],
      "metadata": {
        "id": "xpwQM5A87REh"
      }
    },
    {
      "cell_type": "code",
      "source": [
        "# lemmatize each word, and sort words by removing duplicates:\n",
        "words = [lemmatizer.lemmatize(word.lower()) for word in words if word not in ignore_list]\n",
        "words = sorted(list(set(words)))\n",
        "# sort labels:\n",
        "labels = sorted(list(set(labels)))"
      ],
      "metadata": {
        "id": "QcFVoz9A7C7-"
      },
      "execution_count": 24,
      "outputs": []
    },
    {
      "cell_type": "markdown",
      "source": [
        "# **6. Save words and labels list (using pickle):**"
      ],
      "metadata": {
        "id": "LA6kbkZG7vdF"
      }
    },
    {
      "cell_type": "code",
      "source": [
        "pickle.dump(words,open('words.pkl','wb'))\n",
        "pickle.dump(labels,open('labels.pkl','wb'))"
      ],
      "metadata": {
        "id": "ly3mHbBL7zbT"
      },
      "execution_count": 25,
      "outputs": []
    },
    {
      "cell_type": "markdown",
      "source": [
        "# **7. Creating our Training data:**"
      ],
      "metadata": {
        "id": "fazJ79lW72ol"
      }
    },
    {
      "cell_type": "code",
      "source": [
        "# creating our training data:\n",
        "training_data = []\n",
        "# creating an empty array for our output (with size same as length of labels):\n",
        "output = [0]*len(labels)\n",
        "for doc in docs:\n",
        "    bag_of_words = []\n",
        "    pattern_words = doc[0]\n",
        "    #lemmatize pattern words:\n",
        "    pattern_words = [lemmatizer.lemmatize(word.lower()) for word in pattern_words]\n",
        "    \n",
        "    for w in words:\n",
        "        if w in pattern_words:\n",
        "            bag_of_words.append(1)\n",
        "        else:\n",
        "            bag_of_words.append(0)\n",
        "            \n",
        "    output_row = list(output)\n",
        "    output_row[labels.index(doc[1])] = 1\n",
        "    \n",
        "    training_data.append([bag_of_words,output_row])"
      ],
      "metadata": {
        "id": "irwnoiGx71Lj"
      },
      "execution_count": 26,
      "outputs": []
    },
    {
      "cell_type": "markdown",
      "source": [
        "# **8. Shuffle and Convert our Training data to array:**"
      ],
      "metadata": {
        "id": "aepvXS8V77iX"
      }
    },
    {
      "cell_type": "code",
      "source": [
        "# convert training_data to numpy array and shuffle the data:\n",
        "random.shuffle(training_data)\n",
        "training_data = np.array(training_data)"
      ],
      "metadata": {
        "colab": {
          "base_uri": "https://localhost:8080/"
        },
        "id": "aocfmVrd75mv",
        "outputId": "7bdf03ad-b877-4700-d03a-54e809eaeedc"
      },
      "execution_count": 27,
      "outputs": [
        {
          "output_type": "stream",
          "name": "stderr",
          "text": [
            "<ipython-input-27-d2a7c1a73fe0>:3: VisibleDeprecationWarning: Creating an ndarray from ragged nested sequences (which is a list-or-tuple of lists-or-tuples-or ndarrays with different lengths or shapes) is deprecated. If you meant to do this, you must specify 'dtype=object' when creating the ndarray.\n",
            "  training_data = np.array(training_data)\n"
          ]
        }
      ]
    },
    {
      "cell_type": "markdown",
      "source": [
        "# **9. Splitting the data into x_train and y_train:**"
      ],
      "metadata": {
        "id": "UehKgJ-Z8AvP"
      }
    },
    {
      "cell_type": "code",
      "source": [
        "# Now we have to create training list:\n",
        "x_train = list(training_data[:,0])\n",
        "y_train = list(training_data[:,1])"
      ],
      "metadata": {
        "id": "Bb9fmc2I768k"
      },
      "execution_count": 28,
      "outputs": []
    },
    {
      "cell_type": "markdown",
      "source": [
        "# **10. Model Creation:**"
      ],
      "metadata": {
        "id": "RUegSbEy8D08"
      }
    },
    {
      "cell_type": "code",
      "source": [
        "# Creating Model:\n",
        "model = Sequential()\n",
        "model.add(Dense(128, input_shape=(len(x_train[0]),), activation='relu'))\n",
        "model.add(Dropout(0.5))\n",
        "model.add(Dense(64, activation='relu'))\n",
        "model.add(Dropout(0.5))\n",
        "model.add(Dense(len(y_train[0]), activation='softmax'))"
      ],
      "metadata": {
        "id": "Y1CowES28FwW"
      },
      "execution_count": 29,
      "outputs": []
    },
    {
      "cell_type": "markdown",
      "source": [
        "# **11. Model Summary:**"
      ],
      "metadata": {
        "id": "EvATmLgB8HY1"
      }
    },
    {
      "cell_type": "code",
      "source": [
        "model.summary()"
      ],
      "metadata": {
        "colab": {
          "base_uri": "https://localhost:8080/"
        },
        "id": "2Siijax98JcU",
        "outputId": "cdddc095-5246-467e-dc66-6ce06cc1a2ee"
      },
      "execution_count": 30,
      "outputs": [
        {
          "output_type": "stream",
          "name": "stdout",
          "text": [
            "Model: \"sequential\"\n",
            "_________________________________________________________________\n",
            " Layer (type)                Output Shape              Param #   \n",
            "=================================================================\n",
            " dense (Dense)               (None, 128)               11392     \n",
            "                                                                 \n",
            " dropout (Dropout)           (None, 128)               0         \n",
            "                                                                 \n",
            " dense_1 (Dense)             (None, 64)                8256      \n",
            "                                                                 \n",
            " dropout_1 (Dropout)         (None, 64)                0         \n",
            "                                                                 \n",
            " dense_2 (Dense)             (None, 9)                 585       \n",
            "                                                                 \n",
            "=================================================================\n",
            "Total params: 20,233\n",
            "Trainable params: 20,233\n",
            "Non-trainable params: 0\n",
            "_________________________________________________________________\n"
          ]
        }
      ]
    },
    {
      "cell_type": "markdown",
      "source": [
        "# **12. Compile and Fit our model to find the accuracy:**"
      ],
      "metadata": {
        "id": "M9Dbvjbm8LDH"
      }
    },
    {
      "cell_type": "code",
      "source": [
        "from tensorflow.keras.optimizers import legacy\n",
        "\n",
        "sgd_optimizer = legacy.SGD(lr=0.01, decay=1e-6, momentum=0.9, nesterov=True)\n",
        "model.compile(loss='categorical_crossentropy', optimizer=sgd_optimizer, metrics=['accuracy'])"
      ],
      "metadata": {
        "colab": {
          "base_uri": "https://localhost:8080/"
        },
        "id": "Kvl5Wb6k8M_x",
        "outputId": "5e361c26-ce5a-4693-c10b-f93da250a8bf"
      },
      "execution_count": 31,
      "outputs": [
        {
          "output_type": "stream",
          "name": "stderr",
          "text": [
            "/usr/local/lib/python3.10/dist-packages/keras/optimizers/legacy/gradient_descent.py:114: UserWarning: The `lr` argument is deprecated, use `learning_rate` instead.\n",
            "  super().__init__(name, **kwargs)\n"
          ]
        }
      ]
    },
    {
      "cell_type": "code",
      "source": [
        "# fit the model \n",
        "history = model.fit(np.array(x_train), np.array(y_train), epochs=200, batch_size=5, verbose=1)\n"
      ],
      "metadata": {
        "colab": {
          "base_uri": "https://localhost:8080/"
        },
        "id": "xup3x1Tw8VJl",
        "outputId": "06e3e278-61e9-43fb-fe10-ffebce145565"
      },
      "execution_count": 32,
      "outputs": [
        {
          "output_type": "stream",
          "name": "stdout",
          "text": [
            "Epoch 1/200\n",
            "10/10 [==============================] - 4s 6ms/step - loss: 2.2542 - accuracy: 0.1489 \n",
            "Epoch 2/200\n",
            "10/10 [==============================] - 0s 6ms/step - loss: 2.1694 - accuracy: 0.1915\n",
            "Epoch 3/200\n",
            "10/10 [==============================] - 0s 4ms/step - loss: 2.0791 - accuracy: 0.2128\n",
            "Epoch 4/200\n",
            "10/10 [==============================] - 0s 5ms/step - loss: 1.9275 - accuracy: 0.3404\n",
            "Epoch 5/200\n",
            "10/10 [==============================] - 0s 5ms/step - loss: 1.8530 - accuracy: 0.4468\n",
            "Epoch 6/200\n",
            "10/10 [==============================] - 0s 5ms/step - loss: 1.6979 - accuracy: 0.4255\n",
            "Epoch 7/200\n",
            "10/10 [==============================] - 0s 5ms/step - loss: 1.6955 - accuracy: 0.3830\n",
            "Epoch 8/200\n",
            "10/10 [==============================] - 0s 5ms/step - loss: 1.5566 - accuracy: 0.4468\n",
            "Epoch 9/200\n",
            "10/10 [==============================] - 0s 5ms/step - loss: 1.2917 - accuracy: 0.6383\n",
            "Epoch 10/200\n",
            "10/10 [==============================] - 0s 5ms/step - loss: 1.1183 - accuracy: 0.6383\n",
            "Epoch 11/200\n",
            "10/10 [==============================] - 0s 5ms/step - loss: 1.1187 - accuracy: 0.7234\n",
            "Epoch 12/200\n",
            "10/10 [==============================] - 0s 4ms/step - loss: 0.9389 - accuracy: 0.7447\n",
            "Epoch 13/200\n",
            "10/10 [==============================] - 0s 3ms/step - loss: 0.8298 - accuracy: 0.7872\n",
            "Epoch 14/200\n",
            "10/10 [==============================] - 0s 3ms/step - loss: 0.7913 - accuracy: 0.8298\n",
            "Epoch 15/200\n",
            "10/10 [==============================] - 0s 3ms/step - loss: 0.7284 - accuracy: 0.7660\n",
            "Epoch 16/200\n",
            "10/10 [==============================] - 0s 3ms/step - loss: 0.6915 - accuracy: 0.8085\n",
            "Epoch 17/200\n",
            "10/10 [==============================] - 0s 3ms/step - loss: 0.5809 - accuracy: 0.8936\n",
            "Epoch 18/200\n",
            "10/10 [==============================] - 0s 3ms/step - loss: 0.6370 - accuracy: 0.8298\n",
            "Epoch 19/200\n",
            "10/10 [==============================] - 0s 3ms/step - loss: 0.5262 - accuracy: 0.8723\n",
            "Epoch 20/200\n",
            "10/10 [==============================] - 0s 3ms/step - loss: 0.3305 - accuracy: 0.9574\n",
            "Epoch 21/200\n",
            "10/10 [==============================] - 0s 4ms/step - loss: 0.5289 - accuracy: 0.8723\n",
            "Epoch 22/200\n",
            "10/10 [==============================] - 0s 4ms/step - loss: 0.4984 - accuracy: 0.8723\n",
            "Epoch 23/200\n",
            "10/10 [==============================] - 0s 3ms/step - loss: 0.3802 - accuracy: 0.9149\n",
            "Epoch 24/200\n",
            "10/10 [==============================] - 0s 3ms/step - loss: 0.2912 - accuracy: 0.9574\n",
            "Epoch 25/200\n",
            "10/10 [==============================] - 0s 4ms/step - loss: 0.3569 - accuracy: 0.8936\n",
            "Epoch 26/200\n",
            "10/10 [==============================] - 0s 3ms/step - loss: 0.2543 - accuracy: 0.9362\n",
            "Epoch 27/200\n",
            "10/10 [==============================] - 0s 5ms/step - loss: 0.2512 - accuracy: 0.9362\n",
            "Epoch 28/200\n",
            "10/10 [==============================] - 0s 3ms/step - loss: 0.2688 - accuracy: 0.9362\n",
            "Epoch 29/200\n",
            "10/10 [==============================] - 0s 4ms/step - loss: 0.3105 - accuracy: 0.8936\n",
            "Epoch 30/200\n",
            "10/10 [==============================] - 0s 3ms/step - loss: 0.2924 - accuracy: 0.8511\n",
            "Epoch 31/200\n",
            "10/10 [==============================] - 0s 3ms/step - loss: 0.1582 - accuracy: 1.0000\n",
            "Epoch 32/200\n",
            "10/10 [==============================] - 0s 3ms/step - loss: 0.3272 - accuracy: 0.8511\n",
            "Epoch 33/200\n",
            "10/10 [==============================] - 0s 3ms/step - loss: 0.2480 - accuracy: 0.9574\n",
            "Epoch 34/200\n",
            "10/10 [==============================] - 0s 3ms/step - loss: 0.1391 - accuracy: 1.0000\n",
            "Epoch 35/200\n",
            "10/10 [==============================] - 0s 3ms/step - loss: 0.1686 - accuracy: 0.9574\n",
            "Epoch 36/200\n",
            "10/10 [==============================] - 0s 3ms/step - loss: 0.1469 - accuracy: 0.9574\n",
            "Epoch 37/200\n",
            "10/10 [==============================] - 0s 3ms/step - loss: 0.1630 - accuracy: 0.9787\n",
            "Epoch 38/200\n",
            "10/10 [==============================] - 0s 3ms/step - loss: 0.0836 - accuracy: 0.9787\n",
            "Epoch 39/200\n",
            "10/10 [==============================] - 0s 4ms/step - loss: 0.2530 - accuracy: 0.8936\n",
            "Epoch 40/200\n",
            "10/10 [==============================] - 0s 3ms/step - loss: 0.1373 - accuracy: 0.9574\n",
            "Epoch 41/200\n",
            "10/10 [==============================] - 0s 4ms/step - loss: 0.1058 - accuracy: 1.0000\n",
            "Epoch 42/200\n",
            "10/10 [==============================] - 0s 3ms/step - loss: 0.2600 - accuracy: 0.8936\n",
            "Epoch 43/200\n",
            "10/10 [==============================] - 0s 3ms/step - loss: 0.1167 - accuracy: 0.9574\n",
            "Epoch 44/200\n",
            "10/10 [==============================] - 0s 3ms/step - loss: 0.0840 - accuracy: 0.9787\n",
            "Epoch 45/200\n",
            "10/10 [==============================] - 0s 5ms/step - loss: 0.0612 - accuracy: 1.0000\n",
            "Epoch 46/200\n",
            "10/10 [==============================] - 0s 4ms/step - loss: 0.0614 - accuracy: 1.0000\n",
            "Epoch 47/200\n",
            "10/10 [==============================] - 0s 3ms/step - loss: 0.1218 - accuracy: 0.9787\n",
            "Epoch 48/200\n",
            "10/10 [==============================] - 0s 3ms/step - loss: 0.1296 - accuracy: 0.9574\n",
            "Epoch 49/200\n",
            "10/10 [==============================] - 0s 3ms/step - loss: 0.1620 - accuracy: 0.9787\n",
            "Epoch 50/200\n",
            "10/10 [==============================] - 0s 5ms/step - loss: 0.1448 - accuracy: 0.9574\n",
            "Epoch 51/200\n",
            "10/10 [==============================] - 0s 4ms/step - loss: 0.0693 - accuracy: 1.0000\n",
            "Epoch 52/200\n",
            "10/10 [==============================] - 0s 5ms/step - loss: 0.1396 - accuracy: 0.9574\n",
            "Epoch 53/200\n",
            "10/10 [==============================] - 0s 3ms/step - loss: 0.1819 - accuracy: 0.9787\n",
            "Epoch 54/200\n",
            "10/10 [==============================] - 0s 3ms/step - loss: 0.0973 - accuracy: 0.9787\n",
            "Epoch 55/200\n",
            "10/10 [==============================] - 0s 4ms/step - loss: 0.0453 - accuracy: 1.0000\n",
            "Epoch 56/200\n",
            "10/10 [==============================] - 0s 4ms/step - loss: 0.0773 - accuracy: 0.9787\n",
            "Epoch 57/200\n",
            "10/10 [==============================] - 0s 4ms/step - loss: 0.0508 - accuracy: 1.0000\n",
            "Epoch 58/200\n",
            "10/10 [==============================] - 0s 3ms/step - loss: 0.1023 - accuracy: 1.0000\n",
            "Epoch 59/200\n",
            "10/10 [==============================] - 0s 3ms/step - loss: 0.1004 - accuracy: 0.9787\n",
            "Epoch 60/200\n",
            "10/10 [==============================] - 0s 3ms/step - loss: 0.1803 - accuracy: 0.9149\n",
            "Epoch 61/200\n",
            "10/10 [==============================] - 0s 3ms/step - loss: 0.0444 - accuracy: 1.0000\n",
            "Epoch 62/200\n",
            "10/10 [==============================] - 0s 3ms/step - loss: 0.0528 - accuracy: 1.0000\n",
            "Epoch 63/200\n",
            "10/10 [==============================] - 0s 3ms/step - loss: 0.0687 - accuracy: 0.9574\n",
            "Epoch 64/200\n",
            "10/10 [==============================] - 0s 4ms/step - loss: 0.0715 - accuracy: 0.9787\n",
            "Epoch 65/200\n",
            "10/10 [==============================] - 0s 4ms/step - loss: 0.0518 - accuracy: 0.9787\n",
            "Epoch 66/200\n",
            "10/10 [==============================] - 0s 4ms/step - loss: 0.0376 - accuracy: 1.0000\n",
            "Epoch 67/200\n",
            "10/10 [==============================] - 0s 4ms/step - loss: 0.0647 - accuracy: 0.9787\n",
            "Epoch 68/200\n",
            "10/10 [==============================] - 0s 4ms/step - loss: 0.0393 - accuracy: 1.0000\n",
            "Epoch 69/200\n",
            "10/10 [==============================] - 0s 4ms/step - loss: 0.0371 - accuracy: 1.0000\n",
            "Epoch 70/200\n",
            "10/10 [==============================] - 0s 3ms/step - loss: 0.0725 - accuracy: 1.0000\n",
            "Epoch 71/200\n",
            "10/10 [==============================] - 0s 4ms/step - loss: 0.0262 - accuracy: 1.0000\n",
            "Epoch 72/200\n",
            "10/10 [==============================] - 0s 5ms/step - loss: 0.0616 - accuracy: 0.9787\n",
            "Epoch 73/200\n",
            "10/10 [==============================] - 0s 4ms/step - loss: 0.0679 - accuracy: 0.9787\n",
            "Epoch 74/200\n",
            "10/10 [==============================] - 0s 4ms/step - loss: 0.0988 - accuracy: 0.9787\n",
            "Epoch 75/200\n",
            "10/10 [==============================] - 0s 4ms/step - loss: 0.0421 - accuracy: 1.0000\n",
            "Epoch 76/200\n",
            "10/10 [==============================] - 0s 3ms/step - loss: 0.0288 - accuracy: 1.0000\n",
            "Epoch 77/200\n",
            "10/10 [==============================] - 0s 3ms/step - loss: 0.0373 - accuracy: 1.0000\n",
            "Epoch 78/200\n",
            "10/10 [==============================] - 0s 4ms/step - loss: 0.0577 - accuracy: 0.9787\n",
            "Epoch 79/200\n",
            "10/10 [==============================] - 0s 4ms/step - loss: 0.0376 - accuracy: 1.0000\n",
            "Epoch 80/200\n",
            "10/10 [==============================] - 0s 4ms/step - loss: 0.0346 - accuracy: 1.0000\n",
            "Epoch 81/200\n",
            "10/10 [==============================] - 0s 4ms/step - loss: 0.0795 - accuracy: 0.9787\n",
            "Epoch 82/200\n",
            "10/10 [==============================] - 0s 3ms/step - loss: 0.0389 - accuracy: 0.9787\n",
            "Epoch 83/200\n",
            "10/10 [==============================] - 0s 3ms/step - loss: 0.0319 - accuracy: 1.0000\n",
            "Epoch 84/200\n",
            "10/10 [==============================] - 0s 4ms/step - loss: 0.0382 - accuracy: 1.0000\n",
            "Epoch 85/200\n",
            "10/10 [==============================] - 0s 4ms/step - loss: 0.0175 - accuracy: 1.0000\n",
            "Epoch 86/200\n",
            "10/10 [==============================] - 0s 4ms/step - loss: 0.0264 - accuracy: 1.0000\n",
            "Epoch 87/200\n",
            "10/10 [==============================] - 0s 4ms/step - loss: 0.0196 - accuracy: 1.0000\n",
            "Epoch 88/200\n",
            "10/10 [==============================] - 0s 4ms/step - loss: 0.0843 - accuracy: 0.9574\n",
            "Epoch 89/200\n",
            "10/10 [==============================] - 0s 4ms/step - loss: 0.0944 - accuracy: 0.9574\n",
            "Epoch 90/200\n",
            "10/10 [==============================] - 0s 4ms/step - loss: 0.0766 - accuracy: 0.9787\n",
            "Epoch 91/200\n",
            "10/10 [==============================] - 0s 3ms/step - loss: 0.0354 - accuracy: 1.0000\n",
            "Epoch 92/200\n",
            "10/10 [==============================] - 0s 3ms/step - loss: 0.0258 - accuracy: 1.0000\n",
            "Epoch 93/200\n",
            "10/10 [==============================] - 0s 4ms/step - loss: 0.0698 - accuracy: 0.9787\n",
            "Epoch 94/200\n",
            "10/10 [==============================] - 0s 3ms/step - loss: 0.0892 - accuracy: 0.9574\n",
            "Epoch 95/200\n",
            "10/10 [==============================] - 0s 5ms/step - loss: 0.1232 - accuracy: 0.9787\n",
            "Epoch 96/200\n",
            "10/10 [==============================] - 0s 4ms/step - loss: 0.0638 - accuracy: 0.9787\n",
            "Epoch 97/200\n",
            "10/10 [==============================] - 0s 3ms/step - loss: 0.0235 - accuracy: 1.0000\n",
            "Epoch 98/200\n",
            "10/10 [==============================] - 0s 4ms/step - loss: 0.0480 - accuracy: 0.9574\n",
            "Epoch 99/200\n",
            "10/10 [==============================] - 0s 4ms/step - loss: 0.0836 - accuracy: 0.9787\n",
            "Epoch 100/200\n",
            "10/10 [==============================] - 0s 3ms/step - loss: 0.0345 - accuracy: 0.9787\n",
            "Epoch 101/200\n",
            "10/10 [==============================] - 0s 4ms/step - loss: 0.0254 - accuracy: 1.0000\n",
            "Epoch 102/200\n",
            "10/10 [==============================] - 0s 4ms/step - loss: 0.0748 - accuracy: 0.9787\n",
            "Epoch 103/200\n",
            "10/10 [==============================] - 0s 4ms/step - loss: 0.0219 - accuracy: 1.0000\n",
            "Epoch 104/200\n",
            "10/10 [==============================] - 0s 3ms/step - loss: 0.0669 - accuracy: 0.9787\n",
            "Epoch 105/200\n",
            "10/10 [==============================] - 0s 3ms/step - loss: 0.0279 - accuracy: 1.0000\n",
            "Epoch 106/200\n",
            "10/10 [==============================] - 0s 3ms/step - loss: 0.0359 - accuracy: 0.9787\n",
            "Epoch 107/200\n",
            "10/10 [==============================] - 0s 3ms/step - loss: 0.0233 - accuracy: 1.0000\n",
            "Epoch 108/200\n",
            "10/10 [==============================] - 0s 3ms/step - loss: 0.0370 - accuracy: 1.0000\n",
            "Epoch 109/200\n",
            "10/10 [==============================] - 0s 3ms/step - loss: 0.0632 - accuracy: 0.9574\n",
            "Epoch 110/200\n",
            "10/10 [==============================] - 0s 3ms/step - loss: 0.0211 - accuracy: 1.0000\n",
            "Epoch 111/200\n",
            "10/10 [==============================] - 0s 5ms/step - loss: 0.0566 - accuracy: 0.9787\n",
            "Epoch 112/200\n",
            "10/10 [==============================] - 0s 3ms/step - loss: 0.0081 - accuracy: 1.0000\n",
            "Epoch 113/200\n",
            "10/10 [==============================] - 0s 3ms/step - loss: 0.0089 - accuracy: 1.0000\n",
            "Epoch 114/200\n",
            "10/10 [==============================] - 0s 4ms/step - loss: 0.0129 - accuracy: 1.0000\n",
            "Epoch 115/200\n",
            "10/10 [==============================] - 0s 3ms/step - loss: 0.0089 - accuracy: 1.0000\n",
            "Epoch 116/200\n",
            "10/10 [==============================] - 0s 3ms/step - loss: 0.0353 - accuracy: 1.0000\n",
            "Epoch 117/200\n",
            "10/10 [==============================] - 0s 4ms/step - loss: 0.0706 - accuracy: 0.9787\n",
            "Epoch 118/200\n",
            "10/10 [==============================] - 0s 4ms/step - loss: 0.0548 - accuracy: 1.0000\n",
            "Epoch 119/200\n",
            "10/10 [==============================] - 0s 4ms/step - loss: 0.0275 - accuracy: 1.0000\n",
            "Epoch 120/200\n",
            "10/10 [==============================] - 0s 3ms/step - loss: 0.0152 - accuracy: 1.0000\n",
            "Epoch 121/200\n",
            "10/10 [==============================] - 0s 4ms/step - loss: 0.0359 - accuracy: 1.0000\n",
            "Epoch 122/200\n",
            "10/10 [==============================] - 0s 3ms/step - loss: 0.0124 - accuracy: 1.0000\n",
            "Epoch 123/200\n",
            "10/10 [==============================] - 0s 3ms/step - loss: 0.0060 - accuracy: 1.0000\n",
            "Epoch 124/200\n",
            "10/10 [==============================] - 0s 3ms/step - loss: 0.0351 - accuracy: 1.0000\n",
            "Epoch 125/200\n",
            "10/10 [==============================] - 0s 3ms/step - loss: 0.0251 - accuracy: 1.0000\n",
            "Epoch 126/200\n",
            "10/10 [==============================] - 0s 3ms/step - loss: 0.0591 - accuracy: 0.9787\n",
            "Epoch 127/200\n",
            "10/10 [==============================] - 0s 4ms/step - loss: 0.0279 - accuracy: 1.0000\n",
            "Epoch 128/200\n",
            "10/10 [==============================] - 0s 3ms/step - loss: 0.0159 - accuracy: 1.0000\n",
            "Epoch 129/200\n",
            "10/10 [==============================] - 0s 4ms/step - loss: 0.0199 - accuracy: 1.0000\n",
            "Epoch 130/200\n",
            "10/10 [==============================] - 0s 3ms/step - loss: 0.0514 - accuracy: 1.0000\n",
            "Epoch 131/200\n",
            "10/10 [==============================] - 0s 3ms/step - loss: 0.0410 - accuracy: 1.0000\n",
            "Epoch 132/200\n",
            "10/10 [==============================] - 0s 3ms/step - loss: 0.0231 - accuracy: 1.0000\n",
            "Epoch 133/200\n",
            "10/10 [==============================] - 0s 3ms/step - loss: 0.0110 - accuracy: 1.0000\n",
            "Epoch 134/200\n",
            "10/10 [==============================] - 0s 4ms/step - loss: 0.0130 - accuracy: 1.0000\n",
            "Epoch 135/200\n",
            "10/10 [==============================] - 0s 3ms/step - loss: 0.0388 - accuracy: 1.0000\n",
            "Epoch 136/200\n",
            "10/10 [==============================] - 0s 4ms/step - loss: 0.0089 - accuracy: 1.0000\n",
            "Epoch 137/200\n",
            "10/10 [==============================] - 0s 3ms/step - loss: 0.0259 - accuracy: 1.0000\n",
            "Epoch 138/200\n",
            "10/10 [==============================] - 0s 3ms/step - loss: 0.0205 - accuracy: 1.0000\n",
            "Epoch 139/200\n",
            "10/10 [==============================] - 0s 3ms/step - loss: 0.0231 - accuracy: 1.0000\n",
            "Epoch 140/200\n",
            "10/10 [==============================] - 0s 3ms/step - loss: 0.0591 - accuracy: 1.0000\n",
            "Epoch 141/200\n",
            "10/10 [==============================] - 0s 5ms/step - loss: 0.0376 - accuracy: 1.0000\n",
            "Epoch 142/200\n",
            "10/10 [==============================] - 0s 3ms/step - loss: 0.0288 - accuracy: 1.0000\n",
            "Epoch 143/200\n",
            "10/10 [==============================] - 0s 3ms/step - loss: 0.0685 - accuracy: 0.9787\n",
            "Epoch 144/200\n",
            "10/10 [==============================] - 0s 3ms/step - loss: 0.0125 - accuracy: 1.0000\n",
            "Epoch 145/200\n",
            "10/10 [==============================] - 0s 3ms/step - loss: 0.0228 - accuracy: 0.9787\n",
            "Epoch 146/200\n",
            "10/10 [==============================] - 0s 3ms/step - loss: 0.0256 - accuracy: 1.0000\n",
            "Epoch 147/200\n",
            "10/10 [==============================] - 0s 4ms/step - loss: 0.0554 - accuracy: 0.9787\n",
            "Epoch 148/200\n",
            "10/10 [==============================] - 0s 3ms/step - loss: 0.0155 - accuracy: 1.0000\n",
            "Epoch 149/200\n",
            "10/10 [==============================] - 0s 3ms/step - loss: 0.0147 - accuracy: 1.0000\n",
            "Epoch 150/200\n",
            "10/10 [==============================] - 0s 4ms/step - loss: 0.0361 - accuracy: 1.0000\n",
            "Epoch 151/200\n",
            "10/10 [==============================] - 0s 4ms/step - loss: 0.0292 - accuracy: 1.0000\n",
            "Epoch 152/200\n",
            "10/10 [==============================] - 0s 4ms/step - loss: 0.0075 - accuracy: 1.0000\n",
            "Epoch 153/200\n",
            "10/10 [==============================] - 0s 4ms/step - loss: 0.0145 - accuracy: 1.0000\n",
            "Epoch 154/200\n",
            "10/10 [==============================] - 0s 3ms/step - loss: 0.0139 - accuracy: 1.0000\n",
            "Epoch 155/200\n",
            "10/10 [==============================] - 0s 4ms/step - loss: 0.0462 - accuracy: 0.9787\n",
            "Epoch 156/200\n",
            "10/10 [==============================] - 0s 4ms/step - loss: 0.0110 - accuracy: 1.0000\n",
            "Epoch 157/200\n",
            "10/10 [==============================] - 0s 4ms/step - loss: 0.0223 - accuracy: 1.0000\n",
            "Epoch 158/200\n",
            "10/10 [==============================] - 0s 3ms/step - loss: 0.0092 - accuracy: 1.0000\n",
            "Epoch 159/200\n",
            "10/10 [==============================] - 0s 4ms/step - loss: 0.0399 - accuracy: 1.0000\n",
            "Epoch 160/200\n",
            "10/10 [==============================] - 0s 4ms/step - loss: 0.0336 - accuracy: 1.0000\n",
            "Epoch 161/200\n",
            "10/10 [==============================] - 0s 3ms/step - loss: 0.0137 - accuracy: 1.0000\n",
            "Epoch 162/200\n",
            "10/10 [==============================] - 0s 4ms/step - loss: 0.0177 - accuracy: 1.0000\n",
            "Epoch 163/200\n",
            "10/10 [==============================] - 0s 4ms/step - loss: 0.0149 - accuracy: 1.0000\n",
            "Epoch 164/200\n",
            "10/10 [==============================] - 0s 4ms/step - loss: 0.0178 - accuracy: 1.0000\n",
            "Epoch 165/200\n",
            "10/10 [==============================] - 0s 3ms/step - loss: 0.0065 - accuracy: 1.0000\n",
            "Epoch 166/200\n",
            "10/10 [==============================] - 0s 4ms/step - loss: 0.0374 - accuracy: 0.9787\n",
            "Epoch 167/200\n",
            "10/10 [==============================] - 0s 4ms/step - loss: 0.0081 - accuracy: 1.0000\n",
            "Epoch 168/200\n",
            "10/10 [==============================] - 0s 4ms/step - loss: 0.0363 - accuracy: 0.9787\n",
            "Epoch 169/200\n",
            "10/10 [==============================] - 0s 3ms/step - loss: 0.0115 - accuracy: 1.0000\n",
            "Epoch 170/200\n",
            "10/10 [==============================] - 0s 3ms/step - loss: 0.0259 - accuracy: 1.0000\n",
            "Epoch 171/200\n",
            "10/10 [==============================] - 0s 4ms/step - loss: 0.0248 - accuracy: 1.0000\n",
            "Epoch 172/200\n",
            "10/10 [==============================] - 0s 3ms/step - loss: 0.0327 - accuracy: 1.0000\n",
            "Epoch 173/200\n",
            "10/10 [==============================] - 0s 3ms/step - loss: 0.1012 - accuracy: 0.9574\n",
            "Epoch 174/200\n",
            "10/10 [==============================] - 0s 3ms/step - loss: 0.0241 - accuracy: 1.0000\n",
            "Epoch 175/200\n",
            "10/10 [==============================] - 0s 3ms/step - loss: 0.0098 - accuracy: 1.0000\n",
            "Epoch 176/200\n",
            "10/10 [==============================] - 0s 3ms/step - loss: 0.0052 - accuracy: 1.0000\n",
            "Epoch 177/200\n",
            "10/10 [==============================] - 0s 3ms/step - loss: 0.0851 - accuracy: 0.9787\n",
            "Epoch 178/200\n",
            "10/10 [==============================] - 0s 4ms/step - loss: 0.0094 - accuracy: 1.0000\n",
            "Epoch 179/200\n",
            "10/10 [==============================] - 0s 4ms/step - loss: 0.0206 - accuracy: 1.0000\n",
            "Epoch 180/200\n",
            "10/10 [==============================] - 0s 3ms/step - loss: 0.0171 - accuracy: 1.0000\n",
            "Epoch 181/200\n",
            "10/10 [==============================] - 0s 4ms/step - loss: 0.0086 - accuracy: 1.0000\n",
            "Epoch 182/200\n",
            "10/10 [==============================] - 0s 3ms/step - loss: 0.0373 - accuracy: 0.9787\n",
            "Epoch 183/200\n",
            "10/10 [==============================] - 0s 3ms/step - loss: 0.0117 - accuracy: 1.0000\n",
            "Epoch 184/200\n",
            "10/10 [==============================] - 0s 3ms/step - loss: 0.0095 - accuracy: 1.0000\n",
            "Epoch 185/200\n",
            "10/10 [==============================] - 0s 3ms/step - loss: 0.0073 - accuracy: 1.0000\n",
            "Epoch 186/200\n",
            "10/10 [==============================] - 0s 4ms/step - loss: 0.0208 - accuracy: 1.0000\n",
            "Epoch 187/200\n",
            "10/10 [==============================] - 0s 4ms/step - loss: 0.0030 - accuracy: 1.0000\n",
            "Epoch 188/200\n",
            "10/10 [==============================] - 0s 3ms/step - loss: 0.0645 - accuracy: 0.9787\n",
            "Epoch 189/200\n",
            "10/10 [==============================] - 0s 3ms/step - loss: 0.0196 - accuracy: 1.0000\n",
            "Epoch 190/200\n",
            "10/10 [==============================] - 0s 4ms/step - loss: 0.0203 - accuracy: 1.0000\n",
            "Epoch 191/200\n",
            "10/10 [==============================] - 0s 3ms/step - loss: 0.0390 - accuracy: 0.9787\n",
            "Epoch 192/200\n",
            "10/10 [==============================] - 0s 3ms/step - loss: 0.0102 - accuracy: 1.0000\n",
            "Epoch 193/200\n",
            "10/10 [==============================] - 0s 4ms/step - loss: 0.0067 - accuracy: 1.0000\n",
            "Epoch 194/200\n",
            "10/10 [==============================] - 0s 3ms/step - loss: 0.0187 - accuracy: 1.0000\n",
            "Epoch 195/200\n",
            "10/10 [==============================] - 0s 4ms/step - loss: 0.0080 - accuracy: 1.0000\n",
            "Epoch 196/200\n",
            "10/10 [==============================] - 0s 3ms/step - loss: 0.0675 - accuracy: 0.9787\n",
            "Epoch 197/200\n",
            "10/10 [==============================] - 0s 3ms/step - loss: 0.0176 - accuracy: 1.0000\n",
            "Epoch 198/200\n",
            "10/10 [==============================] - 0s 4ms/step - loss: 0.0527 - accuracy: 0.9787\n",
            "Epoch 199/200\n",
            "10/10 [==============================] - 0s 3ms/step - loss: 0.0393 - accuracy: 1.0000\n",
            "Epoch 200/200\n",
            "10/10 [==============================] - 0s 3ms/step - loss: 0.0094 - accuracy: 1.0000\n"
          ]
        }
      ]
    },
    {
      "cell_type": "markdown",
      "source": [
        "# **13. Save the model:**"
      ],
      "metadata": {
        "id": "iCrTU_LJ8ObH"
      }
    },
    {
      "cell_type": "code",
      "source": [
        "model.save('chatbot_Application_model.h5', history)"
      ],
      "metadata": {
        "id": "bP9e28Xd8s9E"
      },
      "execution_count": 33,
      "outputs": []
    },
    {
      "cell_type": "markdown",
      "source": [
        "# **14. Final step to predict the sentences and get responses:**"
      ],
      "metadata": {
        "id": "J8GPGeSX8tRG"
      }
    },
    {
      "cell_type": "code",
      "source": [
        "import nltk\n",
        "from nltk.stem import WordNetLemmatizer\n",
        "lemmatizer = WordNetLemmatizer()\n",
        "import pickle\n",
        "import numpy as np\n",
        "import json\n",
        "import random\n",
        "from keras.models import load_model\n",
        "model = load_model('chatbot_Application_model.h5')\n",
        "intents = json.loads(open('intents.json').read())\n",
        "words = pickle.load(open('words.pkl','rb'))\n",
        "labels = pickle.load(open('labels.pkl','rb'))"
      ],
      "metadata": {
        "id": "NO8k4JLd8uz5"
      },
      "execution_count": 34,
      "outputs": []
    },
    {
      "cell_type": "code",
      "source": [
        "def bank_of_words(s,words, show_details=True):\n",
        "    bag_of_words = [0 for _ in range(len(words))]\n",
        "    sent_words = nltk.word_tokenize(s)\n",
        "    sent_words = [lemmatizer.lemmatize(word.lower()) for word in sent_words]\n",
        "    for sent in sent_words:\n",
        "        for i,w in enumerate(words):\n",
        "            if w == sent:\n",
        "                bag_of_words[i] = 1\n",
        "    return np.array(bag_of_words)\n",
        "def predict_label(s, model):\n",
        "    # filtering out predictions\n",
        "    pred = bank_of_words(s, words,show_details=False)\n",
        "    response = model.predict(np.array([pred]))[0]\n",
        "    ERROR_THRESHOLD = 0.25\n",
        "    final_results = [[i,r] for i,r in enumerate(response) if r>ERROR_THRESHOLD]\n",
        "    final_results.sort(key=lambda x: x[1], reverse=True)\n",
        "    return_list = []\n",
        "    for r in final_results:\n",
        "        return_list.append({\"intent\": labels[r[0]], \"probability\": str(r[1])})\n",
        "    return return_list"
      ],
      "metadata": {
        "id": "GZtnTkpY8zOE"
      },
      "execution_count": 35,
      "outputs": []
    },
    {
      "cell_type": "code",
      "source": [
        "def Response(ints, intents_json):\n",
        "    tags = ints[0]['intent']\n",
        "    list_of_intents = intents_json['intents']\n",
        "    for i in list_of_intents:\n",
        "        if(i['tag']== tags):\n",
        "            response = random.choice(i['responses'])\n",
        "            break\n",
        "    return response\n",
        "def chatbot_response(msg):\n",
        "    ints = predict_label(msg, model)\n",
        "    response = Response(ints, intents)\n",
        "    return response"
      ],
      "metadata": {
        "id": "nKYDg6Zg80qB"
      },
      "execution_count": 36,
      "outputs": []
    },
    {
      "cell_type": "code",
      "source": [
        "def chat():\n",
        "    print(\"Start chat with ChatBot of Medical_Help\")\n",
        "    while True:\n",
        "        inp = input(\"You: \")1\n",
        "        \n",
        "        if inp.lower() == 'quit':\n",
        "            break\n",
        "        response = chatbot_response(inp)\n",
        "        print(\"\\n BOT: \" + response + '\\n\\n')\n",
        "chat()"
      ],
      "metadata": {
        "colab": {
          "base_uri": "https://localhost:8080/"
        },
        "id": "LrATLHKg82Ax",
        "outputId": "61fae107-c122-470f-b3ea-899c31540f2a"
      },
      "execution_count": null,
      "outputs": [
        {
          "output_type": "stream",
          "name": "stdout",
          "text": [
            "Start chat with ChatBot of Medical_Help\n",
            "You: Hello\n",
            "1/1 [==============================] - 0s 28ms/step\n",
            "\n",
            " BOT: Hi there, how can I help?\n",
            "\n",
            "\n",
            "You: How you could help me?\n",
            "1/1 [==============================] - 0s 20ms/step\n",
            "\n",
            " BOT: Offering support for Adverse drug reaction, Blood pressure, Hospitals and Pharmacies\n",
            "\n",
            "\n",
            "You: How to check Adverse drug reaction?\n",
            "1/1 [==============================] - 0s 19ms/step\n",
            "\n",
            " BOT: Navigating to Adverse drug reaction module\n",
            "\n",
            "\n",
            "You: I want to log blood pressure results\n",
            "1/1 [==============================] - 0s 31ms/step\n",
            "\n",
            " BOT: Navigating to Blood Pressure module\n",
            "\n",
            "\n",
            "You: Blood pressure for patient\n",
            "1/1 [==============================] - 0s 21ms/step\n",
            "\n",
            " BOT: Please provide Patient ID\n",
            "\n",
            "\n",
            "You: 236261\n",
            "1/1 [==============================] - 0s 21ms/step\n",
            "\n",
            " BOT: Hello, thanks for asking\n",
            "\n",
            "\n",
            "You: poponnklnkb\n",
            "1/1 [==============================] - 0s 29ms/step\n",
            "\n",
            " BOT: Hi there, how can I help?\n",
            "\n",
            "\n",
            "You: \n",
            "1/1 [==============================] - 0s 19ms/step\n",
            "\n",
            " BOT: Good to see you again\n",
            "\n",
            "\n",
            "You: bye\n",
            "1/1 [==============================] - 0s 23ms/step\n",
            "\n",
            " BOT: Bye! Come back again soon.\n",
            "\n",
            "\n"
          ]
        }
      ]
    }
  ]
}